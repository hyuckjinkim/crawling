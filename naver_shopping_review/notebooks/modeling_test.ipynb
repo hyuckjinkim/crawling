{
 "cells": [
  {
   "cell_type": "code",
   "execution_count": 1,
   "metadata": {},
   "outputs": [],
   "source": [
    "# tensorflow 환경이어야함.\n",
    "\n",
    "# 참조\n",
    "# - https://wikidocs.net/92961"
   ]
  },
  {
   "cell_type": "code",
   "execution_count": 2,
   "metadata": {},
   "outputs": [],
   "source": [
    "import os\n",
    "os.chdir(os.getcwd() + '/../../..')"
   ]
  },
  {
   "cell_type": "code",
   "execution_count": 6,
   "metadata": {},
   "outputs": [],
   "source": [
    "from lib.python.pandas import set_display_option\n",
    "set_display_option()\n",
    "\n",
    "import glob\n",
    "from tqdm import tqdm\n",
    "import pandas as pd\n",
    "import numpy as np"
   ]
  },
  {
   "cell_type": "code",
   "execution_count": 4,
   "metadata": {},
   "outputs": [
    {
     "name": "stderr",
     "output_type": "stream",
     "text": [
      "2024-04-07 06:21:49.320340: I tensorflow/core/platform/cpu_feature_guard.cc:182] This TensorFlow binary is optimized to use available CPU instructions in performance-critical operations.\n",
      "To enable the following instructions: SSE4.1 SSE4.2, in other operations, rebuild TensorFlow with the appropriate compiler flags.\n",
      "2024-04-07 06:21:55.759489: I tensorflow/core/common_runtime/executor.cc:1197] [/device:CPU:0] (DEBUG INFO) Executor start aborting (this does not indicate an error and you can ignore this message): INVALID_ARGUMENT: You must feed a value for placeholder tensor 'gradients/split_2_grad/concat/split_2/split_dim' with dtype int32\n",
      "\t [[{{node gradients/split_2_grad/concat/split_2/split_dim}}]]\n",
      "2024-04-07 06:21:55.760885: I tensorflow/core/common_runtime/executor.cc:1197] [/device:CPU:0] (DEBUG INFO) Executor start aborting (this does not indicate an error and you can ignore this message): INVALID_ARGUMENT: You must feed a value for placeholder tensor 'gradients/split_grad/concat/split/split_dim' with dtype int32\n",
      "\t [[{{node gradients/split_grad/concat/split/split_dim}}]]\n",
      "2024-04-07 06:21:55.761786: I tensorflow/core/common_runtime/executor.cc:1197] [/device:CPU:0] (DEBUG INFO) Executor start aborting (this does not indicate an error and you can ignore this message): INVALID_ARGUMENT: You must feed a value for placeholder tensor 'gradients/split_1_grad/concat/split_1/split_dim' with dtype int32\n",
      "\t [[{{node gradients/split_1_grad/concat/split_1/split_dim}}]]\n"
     ]
    }
   ],
   "source": [
    "# pip install git+https://github.com/haven-jeon/PyKoSpacing.git\n",
    "import tensorflow as tf\n",
    "from pykospacing import Spacing\n",
    "spacing = Spacing()\n",
    "\n",
    "from soynlp.normalizer import *\n",
    "\n",
    "# # pip install git+https://github.com/ssut/py-hanspell.git\n",
    "# from hanspell import spell_checker\n",
    "\n",
    "os.environ['TF_CPP_MIN_LOG_LEVEL'] = '2'"
   ]
  },
  {
   "cell_type": "code",
   "execution_count": 97,
   "metadata": {},
   "outputs": [
    {
     "name": "stderr",
     "output_type": "stream",
     "text": [
      "100%|██████████| 631/631 [00:06<00:00, 90.63it/s] \n"
     ]
    }
   ],
   "source": [
    "# load\n",
    "path = 'crawling/naver_shopping_review/.result/20240324/*'\n",
    "paths = glob.glob(path)\n",
    "df = pd.concat([pd.read_parquet(path) for path in tqdm(paths)],axis=0)\n",
    "\n",
    "# pre-processing\n",
    "unuse_columns = ['product_id','id','review_page','aidaModifyTime','esModifyTime','imageYn','images',\n",
    "                 'mallId','mallSeq','matchNvMid','modifyDate','nvMid','pageUrl','registerDate',\n",
    "                 'title','topicYn','userId','videoYn','videos','mallLogoUrl']\n",
    "df.drop(columns=unuse_columns, inplace=True)"
   ]
  },
  {
   "cell_type": "code",
   "execution_count": 98,
   "metadata": {},
   "outputs": [],
   "source": [
    "d = df[(df.keyword=='유산균') & (df.review_topic=='주제전체') & (df.product_ranking==1)]"
   ]
  },
  {
   "cell_type": "code",
   "execution_count": 99,
   "metadata": {},
   "outputs": [
    {
     "data": {
      "text/html": [
       "<div>\n",
       "<style scoped>\n",
       "    .dataframe tbody tr th:only-of-type {\n",
       "        vertical-align: middle;\n",
       "    }\n",
       "\n",
       "    .dataframe tbody tr th {\n",
       "        vertical-align: top;\n",
       "    }\n",
       "\n",
       "    .dataframe thead th {\n",
       "        text-align: right;\n",
       "    }\n",
       "</style>\n",
       "<table border=\"1\" class=\"dataframe\">\n",
       "  <thead>\n",
       "    <tr style=\"text-align: right;\">\n",
       "      <th></th>\n",
       "      <th>keyword</th>\n",
       "      <th>product_ranking</th>\n",
       "      <th>product_title</th>\n",
       "      <th>review_topic</th>\n",
       "      <th>review_ranking</th>\n",
       "      <th>buyOption</th>\n",
       "      <th>content</th>\n",
       "      <th>aidaCreateTime</th>\n",
       "      <th>imageCount</th>\n",
       "      <th>mallProductId</th>\n",
       "      <th>mallReviewId</th>\n",
       "      <th>qualityScore</th>\n",
       "      <th>rankScore</th>\n",
       "      <th>starScore</th>\n",
       "      <th>topicCount</th>\n",
       "      <th>topics</th>\n",
       "      <th>videoCount</th>\n",
       "      <th>mallName</th>\n",
       "    </tr>\n",
       "  </thead>\n",
       "  <tbody>\n",
       "    <tr>\n",
       "      <th>0</th>\n",
       "      <td>유산균</td>\n",
       "      <td>1</td>\n",
       "      <td>에스네이처 아쿠아 스쿠알란 수분크림 60ml</td>\n",
       "      <td>주제전체</td>\n",
       "      <td>1</td>\n",
       "      <td>용량: 60ml 본품만</td>\n",
       "      <td>제형- 크림 제형 펴바를때 꾸덕하지 않고 부드럽게 잘 펼쳐짐&lt;br&gt;수분감- 수분보충...</td>\n",
       "      <td>2023-08-06 15:32:40</td>\n",
       "      <td>4</td>\n",
       "      <td>8227910747</td>\n",
       "      <td>4306619333</td>\n",
       "      <td>0.752075</td>\n",
       "      <td>1.1020750000000001</td>\n",
       "      <td>5</td>\n",
       "      <td>1</td>\n",
       "      <td>[{'topicCode': 'moisture', 'topicName': '보습력',...</td>\n",
       "      <td>0</td>\n",
       "      <td>로하스힐링</td>\n",
       "    </tr>\n",
       "    <tr>\n",
       "      <th>1</th>\n",
       "      <td>유산균</td>\n",
       "      <td>1</td>\n",
       "      <td>에스네이처 아쿠아 스쿠알란 수분크림 60ml</td>\n",
       "      <td>주제전체</td>\n",
       "      <td>2</td>\n",
       "      <td>None</td>\n",
       "      <td>다른 제품만 &lt;em&gt;쓰다가 처음 써봤는데&lt;/em&gt; 제 피부에 정말 잘 맞아요! 저는...</td>\n",
       "      <td>2022-03-26 15:36:28</td>\n",
       "      <td>3</td>\n",
       "      <td>5015597646</td>\n",
       "      <td>3396996187</td>\n",
       "      <td>0.696892</td>\n",
       "      <td>1.056892</td>\n",
       "      <td>5</td>\n",
       "      <td>4</td>\n",
       "      <td>[{'topicCode': 'total', 'topicName': '만족도', 's...</td>\n",
       "      <td>0</td>\n",
       "      <td>에스네이처</td>\n",
       "    </tr>\n",
       "  </tbody>\n",
       "</table>\n",
       "</div>"
      ],
      "text/plain": [
       "  keyword  product_ranking             product_title review_topic  \\\n",
       "0     유산균                1  에스네이처 아쿠아 스쿠알란 수분크림 60ml         주제전체   \n",
       "1     유산균                1  에스네이처 아쿠아 스쿠알란 수분크림 60ml         주제전체   \n",
       "\n",
       "   review_ranking     buyOption  \\\n",
       "0               1  용량: 60ml 본품만   \n",
       "1               2          None   \n",
       "\n",
       "                                             content       aidaCreateTime  \\\n",
       "0  제형- 크림 제형 펴바를때 꾸덕하지 않고 부드럽게 잘 펼쳐짐<br>수분감- 수분보충...  2023-08-06 15:32:40   \n",
       "1  다른 제품만 <em>쓰다가 처음 써봤는데</em> 제 피부에 정말 잘 맞아요! 저는...  2022-03-26 15:36:28   \n",
       "\n",
       "  imageCount mallProductId mallReviewId qualityScore           rankScore  \\\n",
       "0          4    8227910747   4306619333     0.752075  1.1020750000000001   \n",
       "1          3    5015597646   3396996187     0.696892            1.056892   \n",
       "\n",
       "  starScore topicCount                                             topics  \\\n",
       "0         5          1  [{'topicCode': 'moisture', 'topicName': '보습력',...   \n",
       "1         5          4  [{'topicCode': 'total', 'topicName': '만족도', 's...   \n",
       "\n",
       "  videoCount mallName  \n",
       "0          0    로하스힐링  \n",
       "1          0    에스네이처  "
      ]
     },
     "execution_count": 99,
     "metadata": {},
     "output_type": "execute_result"
    }
   ],
   "source": [
    "d.head(2)"
   ]
  },
  {
   "cell_type": "code",
   "execution_count": 103,
   "metadata": {},
   "outputs": [
    {
     "name": "stdout",
     "output_type": "stream",
     "text": [
      "제형- 크림 제형 펴바를때 꾸덕하지 않고 부드럽게 잘 펼쳐짐<br>수분감- 수분보충에 좋은 스쿠알란이 많이 있어 보습에 좋음. 한번만 발라도 충분한 수분을 충전할 수 있음<br>(다만, 세수하고 나오면 인중과 턱이 바로 땡기고 피부가 일어나는 극 건성임에도 너무 더운 요즘 같은 여름에는 과하게 느껴질 때가 있음)<br>향- 아무향 안남<br>마무리감- 조금의 끈적함이 남을 수 있음\n",
      "[{'topicCode': 'moisture', 'topicName': '보습력', 'startPosition': 96, 'endPosition': 164, 'positiveYn': 'Y', 'reputationScore': 800}]\n"
     ]
    }
   ],
   "source": [
    "print(d.content.values[0])\n",
    "print(d.topics.values[0])"
   ]
  },
  {
   "cell_type": "code",
   "execution_count": null,
   "metadata": {},
   "outputs": [],
   "source": [
    "import re\n",
    "\n",
    "PUNCT = \"/-'?!.,#$%\\'()*+-/:;<=>@[\\\\]^_`{|}~\" + '\"\"“”’' + '∞θ÷α•à−β∅³π‘₹´°£€\\×™√²—–&'\n",
    "PUNCT_MAPPING = {\"‘\": \"'\", \"₹\": \"e\", \"´\": \"'\", \"°\": \"\", \"€\": \"e\", \"™\": \"tm\", \"√\": \" sqrt \", \"×\": \"x\", \"²\": \"2\", \"—\": \"-\", \"–\": \"-\", \"’\": \"'\", \"_\": \"-\", \"`\": \"'\", '“': '\"', '”': '\"', '“': '\"', \"£\": \"e\", '∞': 'infinity', 'θ': 'theta', '÷': '/', 'α': 'alpha', '•': '.', 'à': 'a', '−': '-', 'β': 'beta', '∅': '', '³': '3', 'π': 'pi', } \n",
    "SPECIALS = {'\\u200b': ' ', '…': ' ... ', '\\ufeff': '', 'करना': '', 'है': ''}\n",
    "\n",
    "def clean_text(text):\n",
    "    for p in PUNCT_MAPPING:\n",
    "        text = text.replace(p, PUNCT_MAPPING[p])\n",
    "    # for p in PUNCT:\n",
    "    #     text = text.replace(p, f' {p} ')\n",
    "    for s in SPECIALS:\n",
    "        text = text.replace(s, SPECIALS[s])\n",
    "    \n",
    "    patterns = {\n",
    "        '([a-zA-Z0-9_.+-]+@[a-zA-Z0-9-]+\\.[a-zA-Z0-9-.]+)' : '',  # E-mail제거\n",
    "        '(http|ftp|https)://(?:[-\\w.]|(?:%[\\da-fA-F]{2}))+' : '', # URL제거\n",
    "        '([ㄱ-ㅎㅏ-ㅣ]+)' : '',                                     # 한글 자음, 모음 제거\n",
    "        '<[^>]*>' : '',                                           # HTML 태그 제거\n",
    "        '[^\\w\\s\\n]' : '',                                         # 특수기호제거\n",
    "        '[-=+,#/\\?:^$.@*\\\"※~&%ㆍ!』\\\\‘|\\(\\)\\[\\]\\<\\>`\\'…》]' : '',\n",
    "        '\\n' : '.',\n",
    "        '[</br>]' : '.',\n",
    "        '[<br>]' : '',\n",
    "    }\n",
    "    for pattern,repl in patterns.items():\n",
    "        text = re.sub(pattern=pattern, repl=repl, string=text)\n",
    "        \n",
    "    #text = text.replace('em','<em>')\n",
    "    \n",
    "    return text.strip()\n",
    "\n",
    "def preprocess_korean_text(sent):\n",
    "    sent = ' '.join([s if (s.find('<em>')>=0)|(s.find('</em>')>=0) else clean_text(s) for s in sent.split(' ')])\n",
    "    #sent = clean_text(sent)\n",
    "    sent = spacing(sent)\n",
    "    sent = repeat_normalize(sent, num_repeats=1)\n",
    "    \n",
    "    return sent"
   ]
  },
  {
   "cell_type": "code",
   "execution_count": null,
   "metadata": {},
   "outputs": [],
   "source": [
    "# sent = df.content.values[0]\n",
    "# sent.split(' ')"
   ]
  },
  {
   "cell_type": "code",
   "execution_count": null,
   "metadata": {},
   "outputs": [],
   "source": [
    "for i in range(10):\n",
    "    sent = df.content.values[i]\n",
    "\n",
    "    print(sent)\n",
    "    print(preprocess_korean_text(sent))\n",
    "    print('')"
   ]
  }
 ],
 "metadata": {
  "kernelspec": {
   "display_name": "tensorflow",
   "language": "python",
   "name": "tensorflow"
  },
  "language_info": {
   "codemirror_mode": {
    "name": "ipython",
    "version": 3
   },
   "file_extension": ".py",
   "mimetype": "text/x-python",
   "name": "python",
   "nbconvert_exporter": "python",
   "pygments_lexer": "ipython3",
   "version": "3.11.0"
  }
 },
 "nbformat": 4,
 "nbformat_minor": 2
}
