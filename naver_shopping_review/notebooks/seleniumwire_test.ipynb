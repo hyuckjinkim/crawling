{
 "cells": [
  {
   "cell_type": "code",
   "execution_count": 1,
   "metadata": {},
   "outputs": [],
   "source": [
    "import os\n",
    "os.chdir(os.getcwd() + '/../../..')"
   ]
  },
  {
   "cell_type": "code",
   "execution_count": 2,
   "metadata": {},
   "outputs": [],
   "source": [
    "from lib.python.crawler.selenium.chrome import BaseChromeWebdriver\n",
    "\n",
    "import selenium\n",
    "from selenium.webdriver.common.keys import Keys\n",
    "from selenium.common.exceptions import NoSuchElementException\n",
    "\n",
    "import time"
   ]
  },
  {
   "cell_type": "code",
   "execution_count": 3,
   "metadata": {},
   "outputs": [],
   "source": [
    "def get_topic_code(keyword: str, product_id: str) -> list[str]:\n",
    "    \"\"\"\n",
    "    네트워크 패킷의 API 요청을 위한 토픽코드를 가져온다.\n",
    "    \n",
    "    Args:\n",
    "        keyword (str): 수집을 원하는 키워드명.\n",
    "        product_id (str): 수집을 원하는 상품번호.\n",
    "    \n",
    "    Return:\n",
    "        list[str]: [토픽명,토픽코드]로 이루어진 리스트.\n",
    "    \"\"\"\n",
    "    \n",
    "    global topic_code_info, topic_url, saved_topic_url\n",
    "    \n",
    "    # 선택한 키워드에 해당하는 url로 접근한다.\n",
    "    url = 'https://search.shopping.naver.com/catalog/{}?query={}'\n",
    "    cwd = BaseChromeWebdriver(wired=True, chromedriver_path='tools/chromedriver', headless=True, timeout=None)\n",
    "    cwd.get(url.format(product_id,keyword))\n",
    "\n",
    "    # 스크롤 다운\n",
    "    time.sleep(10)\n",
    "    cwd.scroll_down()\n",
    "    \n",
    "    # 토픽 더보기 누르기\n",
    "    selector = '#section_review > div.filter_sort_group__2G1QI > div.filter_evaluation_tap__V1J3G > div > a'\n",
    "    elements = cwd.find_element_by_css_selector(selector)\n",
    "    elements.send_keys(Keys.ENTER)\n",
    "    \n",
    "    # 토픽\n",
    "    saved_topic_url = []\n",
    "    topic_code_info = [['주제전체','']] # 토픽리스트 : 첫번째는 주제전체임\n",
    "\n",
    "    topic_iter = 1\n",
    "    while True:\n",
    "        topic_iter += 1\n",
    "        \n",
    "        # 토픽명을 클릭해서 cwd.driver.requests에 url 정보가 쌓이도록 함\n",
    "        try:\n",
    "            # 토픽명 클릭\n",
    "            selector_fmt = '#section_review > div.filter_sort_group__2G1QI > div.filter_evaluation_tap__V1J3G > div > ul > li:nth-child({}) > a'\n",
    "            topic_elements = cwd.find_element_by_css_selector(selector_fmt.format(topic_iter))\n",
    "            topic_elements.send_keys(Keys.ENTER)\n",
    "            \n",
    "            # 네트워크에 url나오도록 기다리기\n",
    "            time.sleep(10)\n",
    "            cwd.scroll_down()\n",
    "            \n",
    "        except NoSuchElementException as e:\n",
    "            # 더 이상 토픽이 없음으로 인식\n",
    "            break\n",
    "        \n",
    "        # url 가져오기\n",
    "        topic_url = [request.url for request in cwd.driver.requests if request.url.find('https://search.shopping.naver.com/api/review?')>=0]\n",
    "        topic_url = list(set(topic_url)-set(saved_topic_url))\n",
    "        if len(topic_url)==1:\n",
    "            saved_topic_url.append(topic_url[0])\n",
    "        else:\n",
    "            raise\n",
    "        \n",
    "        topic_code_info.append([topic_elements.text,topic_url[0].split('topicCode=')[-1]])\n",
    "        \n",
    "    return topic_code_info"
   ]
  },
  {
   "cell_type": "code",
   "execution_count": 4,
   "metadata": {},
   "outputs": [],
   "source": [
    "keyword = '수분크림'\n",
    "product_id = '8119197336'"
   ]
  },
  {
   "cell_type": "code",
   "execution_count": 5,
   "metadata": {},
   "outputs": [],
   "source": [
    "topic_codes = get_topic_code(keyword,product_id)"
   ]
  },
  {
   "cell_type": "code",
   "execution_count": 6,
   "metadata": {},
   "outputs": [
    {
     "data": {
      "text/plain": [
       "[['주제전체', ''],\n",
       " ['만족도', 'total'],\n",
       " ['가격', 'price'],\n",
       " ['효과', 'effect'],\n",
       " ['트러블', 'trouble'],\n",
       " ['보습력', 'moisture'],\n",
       " ['성능', 'performance'],\n",
       " ['음식량', 'amount'],\n",
       " ['품질', 'quality'],\n",
       " ['흡수', 'absorption'],\n",
       " ['향기', 'smell'],\n",
       " ['편리성', 'usability'],\n",
       " ['사이즈', 'size'],\n",
       " ['색상', 'color'],\n",
       " ['디자인', 'design'],\n",
       " ['표현력', 'expression'],\n",
       " ['구성', 'component'],\n",
       " ['성분', 'ingredient'],\n",
       " ['지속력', 'keep'],\n",
       " ['제품상태', 'condition'],\n",
       " ['광택', 'gloss']]"
      ]
     },
     "execution_count": 6,
     "metadata": {},
     "output_type": "execute_result"
    }
   ],
   "source": [
    "topic_codes"
   ]
  }
 ],
 "metadata": {
  "kernelspec": {
   "display_name": "torch",
   "language": "python",
   "name": "python3"
  },
  "language_info": {
   "codemirror_mode": {
    "name": "ipython",
    "version": 3
   },
   "file_extension": ".py",
   "mimetype": "text/x-python",
   "name": "python",
   "nbconvert_exporter": "python",
   "pygments_lexer": "ipython3",
   "version": "3.11.0"
  }
 },
 "nbformat": 4,
 "nbformat_minor": 2
}
